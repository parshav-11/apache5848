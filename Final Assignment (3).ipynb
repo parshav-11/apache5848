{
 "cells": [
  {
   "cell_type": "markdown",
   "metadata": {},
   "source": [
    "<center>\n",
    "    <img src=\"https://s3-api.us-geo.objectstorage.softlayer.net/cf-courses-data/CognitiveClass/Logos/organization_logo/organization_logo.png\" width=\"300\" alt=\"cognitiveclass.ai logo\"  />\n",
    "</center>\n"
   ]
  },
  {
   "cell_type": "markdown",
   "metadata": {},
   "source": [
    "#### Add your code below following the instructions given in the course\n"
   ]
  },
  {
   "cell_type": "markdown",
   "metadata": {},
   "source": [
    "# My Jupyter Notebook on IBM Watson Studio"
   ]
  },
  {
   "cell_type": "markdown",
   "metadata": {},
   "source": [
    "**Madhur Mittal**\n",
    "\n",
    "Data Scientist"
   ]
  },
  {
   "cell_type": "markdown",
   "metadata": {},
   "source": [
    "_Data is becoming the core of every business and due to the dependency on computers for data storage, data science has become a vital skill to have for an organization to even survive in this fast moving world. Keeping in mind my interests and future needs, I decided to become a Data Scientist. Also this is the only field which won't become mundane ever. Throwing new challenges everyday, new businesses, new questions, new methods, new answers and increased knowledge base on a human level as well._"
   ]
  },
  {
   "cell_type": "markdown",
   "metadata": {},
   "source": [
    "\n",
    "### The following code is supposed to take up my name as password and allow entry in the code"
   ]
  },
  {
   "cell_type": "code",
   "execution_count": 10,
   "metadata": {},
   "outputs": [],
   "source": [
    "def enter_name(name):\n",
    "    name = input(\"Enter name\")\n",
    "    if name.lower() == 'madhur mittal':\n",
    "        return 'Welcome to my world'\n",
    "    else:\n",
    "        return 'You are not authorized to access the contents of this page'"
   ]
  },
  {
   "cell_type": "code",
   "execution_count": 11,
   "metadata": {},
   "outputs": [
    {
     "name": "stdin",
     "output_type": "stream",
     "text": [
      "Enter name mmmm\n"
     ]
    },
    {
     "data": {
      "text/plain": [
       "'You are not authorized to access the contents of this page'"
      ]
     },
     "execution_count": 11,
     "metadata": {},
     "output_type": "execute_result"
    }
   ],
   "source": [
    "enter_name(name)"
   ]
  },
  {
   "cell_type": "markdown",
   "metadata": {},
   "source": [
    "#### So to sum up, we learned from this lab exercise:\n",
    "> - How to use different html attributes in our Jupyter notebook\n",
    "> - What is the importance of Markdown along with code\n",
    "> - Why data science is the field to make career in.\n",
    "\n",
    "~~Thank You for going through my lab exercise. I hope you find it helpful.~~"
   ]
  },
  {
   "cell_type": "code",
   "execution_count": null,
   "metadata": {},
   "outputs": [],
   "source": []
  },
  {
   "cell_type": "code",
   "execution_count": null,
   "metadata": {},
   "outputs": [],
   "source": []
  }
 ],
 "metadata": {
  "kernelspec": {
   "display_name": "Python",
   "language": "python",
   "name": "conda-env-python-py"
  },
  "language_info": {
   "codemirror_mode": {
    "name": "ipython",
    "version": 3
   },
   "file_extension": ".py",
   "mimetype": "text/x-python",
   "name": "python",
   "nbconvert_exporter": "python",
   "pygments_lexer": "ipython3",
   "version": "3.7.12"
  }
 },
 "nbformat": 4,
 "nbformat_minor": 4
}
